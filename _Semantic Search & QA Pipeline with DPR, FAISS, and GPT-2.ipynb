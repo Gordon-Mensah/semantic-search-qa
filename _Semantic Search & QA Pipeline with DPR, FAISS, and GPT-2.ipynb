{
 "cells": [
  {
   "cell_type": "markdown",
   "id": "e3040443-40a3-44b8-a692-f7086d76995d",
   "metadata": {},
   "source": [
    "# -----------------------------\n",
    "# 1. Install Dependencies\n",
    "# -----------------------------"
   ]
  },
  {
   "cell_type": "code",
   "execution_count": 1,
   "id": "9908f02d-6ffe-4d34-83b0-e089b02e2634",
   "metadata": {},
   "outputs": [],
   "source": [
    "!pip install --quiet faiss-cpu transformers datasets torch wget"
   ]
  },
  {
   "cell_type": "markdown",
   "id": "8ecf4269-b922-4130-91f3-9d4dfe6e66fd",
   "metadata": {},
   "source": [
    "# -----------------------------\n",
    "# 2. Import Libraries\n",
    "# -----------------------------"
   ]
  },
  {
   "cell_type": "code",
   "execution_count": 19,
   "id": "05e894ba-171d-4bd1-a0ed-2b161c01079c",
   "metadata": {},
   "outputs": [],
   "source": [
    "import torch\n",
    "import random\n",
    "import numpy as np\n",
    "import wget\n",
    "import matplotlib.pyplot as plt\n",
    "from sklearn.manifold import TSNE\n",
    "from mpl_toolkits.mplot3d import Axes3D\n",
    "\n",
    "from transformers import (\n",
    "    DPRContextEncoder, DPRContextEncoderTokenizer,\n",
    "    DPRQuestionEncoder, DPRQuestionEncoderTokenizer,\n",
    "    AutoTokenizer, AutoModelForCausalLM\n",
    ")\n",
    "\n",
    "import faiss\n",
    "import warnings\n",
    "warnings.filterwarnings(\"ignore\")\n",
    "\n",
    "\n",
    "import warnings\n",
    "warnings.filterwarnings(\"ignore\", category=UserWarning)\n",
    "warnings.filterwarnings(\"ignore\", category=FutureWarning)\n",
    "\n",
    "from transformers.utils import logging\n",
    "logging.set_verbosity_error()"
   ]
  },
  {
   "cell_type": "markdown",
   "id": "4d1834f8-fc73-47d8-abfd-b0155c050455",
   "metadata": {},
   "source": [
    "# -----------------------------\n",
    "# 3. Download & Preprocess Document\n",
    "# -----------------------------"
   ]
  },
  {
   "cell_type": "code",
   "execution_count": 5,
   "id": "3fdb878e-d099-481d-84c1-db790e1dd6a4",
   "metadata": {},
   "outputs": [],
   "source": [
    "filename = 'companyPolicies.txt'\n",
    "url = 'https://cf-courses-data.s3.us.cloud-object-storage.appdomain.cloud/6JDbUb_L3egv_eOkouY71A.txt'\n",
    "wget.download(url, out=filename)\n",
    "\n",
    "def read_and_split_text(filename):\n",
    "    with open(filename, 'r', encoding='utf-8') as file:\n",
    "        paragraphs = [p.strip() for p in file.read().split('\\n') if p.strip()]\n",
    "    return paragraphs\n",
    "\n",
    "paragraphs = read_and_split_text(filename)"
   ]
  },
  {
   "cell_type": "markdown",
   "id": "6ad44799-2582-4baa-8cfb-e4586cd9da63",
   "metadata": {},
   "source": [
    "# -----------------------------\n",
    "# 4. t-SNE Visualization\n",
    "# -----------------------------"
   ]
  },
  {
   "cell_type": "code",
   "execution_count": 6,
   "id": "4731007f-9c12-4e7e-8a3c-1ecf6653d495",
   "metadata": {},
   "outputs": [],
   "source": [
    "def tsne_plot(data):\n",
    "    tsne = TSNE(n_components=3, random_state=42, perplexity=min(30, data.shape[0] - 1))\n",
    "    data_3d = tsne.fit_transform(data)\n",
    "\n",
    "    fig = plt.figure(figsize=(10, 7))\n",
    "    ax = fig.add_subplot(111, projection='3d')\n",
    "    colors = plt.cm.tab20(np.linspace(0, 1, len(data_3d)))\n",
    "\n",
    "    for idx, point in enumerate(data_3d):\n",
    "        ax.scatter(*point, label=str(idx), color=colors[idx])\n",
    "    \n",
    "    ax.set_xlabel('TSNE Component 1')\n",
    "    ax.set_ylabel('TSNE Component 2')\n",
    "    ax.set_zlabel('TSNE Component 3')\n",
    "    plt.title('3D t-SNE Visualization')\n",
    "    plt.legend(title='Paragraph Index')\n",
    "    plt.show()"
   ]
  },
  {
   "cell_type": "markdown",
   "id": "fc71a450-9577-4d16-b356-c456c3751ce1",
   "metadata": {},
   "source": [
    "# -----------------------------\n",
    "# 5. Encode Contexts with DPR\n",
    "# -----------------------------"
   ]
  },
  {
   "cell_type": "code",
   "execution_count": 20,
   "id": "cccae832-ca53-4088-bb17-14f5ef0575f5",
   "metadata": {},
   "outputs": [],
   "source": [
    "context_tokenizer = DPRContextEncoderTokenizer.from_pretrained('facebook/dpr-ctx_encoder-single-nq-base')\n",
    "context_encoder = DPRContextEncoder.from_pretrained('facebook/dpr-ctx_encoder-single-nq-base')\n",
    "\n",
    "def encode_contexts(text_list):\n",
    "    embeddings = []\n",
    "    for text in text_list:\n",
    "        inputs = context_tokenizer(text, return_tensors='pt', padding=True, truncation=True, max_length=256)\n",
    "        outputs = context_encoder(**inputs)\n",
    "        embeddings.append(outputs.pooler_output)\n",
    "    return torch.cat(embeddings).detach().numpy()\n",
    "\n",
    "context_embeddings = encode_contexts(paragraphs)\n"
   ]
  },
  {
   "cell_type": "markdown",
   "id": "8293dd99-e8a4-48d2-9e4a-c09124457802",
   "metadata": {},
   "source": [
    "# -----------------------------\n",
    "# 6. Index with FAISS\n",
    "# -----------------------------"
   ]
  },
  {
   "cell_type": "code",
   "execution_count": 11,
   "id": "32824235-e83f-4fdf-98d9-4844e2fb8cac",
   "metadata": {},
   "outputs": [],
   "source": [
    "embedding_dim = context_embeddings.shape[1]\n",
    "index = faiss.IndexFlatL2(embedding_dim)\n",
    "index.add(context_embeddings.astype('float32'))"
   ]
  },
  {
   "cell_type": "markdown",
   "id": "b383410c-4bd0-494a-a7c9-290333015731",
   "metadata": {},
   "source": [
    "# -----------------------------\n",
    "# 7. Encode Questions\n",
    "# -----------------------------"
   ]
  },
  {
   "cell_type": "code",
   "execution_count": 21,
   "id": "752e6275-8f28-4514-8b15-69bc7ad95d42",
   "metadata": {},
   "outputs": [],
   "source": [
    "question_tokenizer = DPRQuestionEncoderTokenizer.from_pretrained('facebook/dpr-question_encoder-single-nq-base')\n",
    "question_encoder = DPRQuestionEncoder.from_pretrained('facebook/dpr-question_encoder-single-nq-base')\n",
    "\n",
    "def search_relevant_contexts(question, k=5):\n",
    "    question_inputs = question_tokenizer(question, return_tensors='pt')\n",
    "    question_embedding = question_encoder(**question_inputs).pooler_output.detach().numpy()\n",
    "    D, I = index.search(question_embedding, k)\n",
    "    return D, I"
   ]
  },
  {
   "cell_type": "markdown",
   "id": "5b01e8b4-dc30-45a1-b91d-93d1b250802c",
   "metadata": {},
   "source": [
    "# -----------------------------\n",
    "# 8. GPT-2 Answer Generation\n",
    "# -----------------------------"
   ]
  },
  {
   "cell_type": "code",
   "execution_count": 13,
   "id": "633097d4-d659-4cc6-bd7d-f8de1f92817d",
   "metadata": {},
   "outputs": [],
   "source": [
    "tokenizer = AutoTokenizer.from_pretrained(\"openai-community/gpt2\")\n",
    "model = AutoModelForCausalLM.from_pretrained(\"openai-community/gpt2\")\n",
    "model.generation_config.pad_token_id = tokenizer.pad_token_id\n",
    "\n",
    "def generate_answer(question, contexts, max_new_tokens=100):\n",
    "    input_text = question + ' ' + ' '.join(contexts)\n",
    "    inputs = tokenizer(input_text, return_tensors='pt', truncation=True, max_length=1024)\n",
    "    summary_ids = model.generate(inputs['input_ids'], max_new_tokens=max_new_tokens, num_beams=4, early_stopping=True)\n",
    "    return tokenizer.decode(summary_ids[0], skip_special_tokens=True)"
   ]
  },
  {
   "cell_type": "markdown",
   "id": "124ef3d8-dc4a-4041-bb0b-ee9cd2381be9",
   "metadata": {},
   "source": [
    "# -----------------------------\n",
    "# 9. Example Run\n",
    "# -----------------------------"
   ]
  },
  {
   "cell_type": "code",
   "execution_count": 22,
   "id": "394b0535-8981-4874-8257-c1dfc3e15c34",
   "metadata": {},
   "outputs": [
    {
     "name": "stdout",
     "output_type": "stream",
     "text": [
      "Top Contexts:\n",
      "1. 4.\tMobile Phone Policy\n",
      "\n",
      "2. The Mobile Phone Policy sets forth the standards and expectations governing the appropriate and responsible usage of mobile devices in the organization. The purpose of this policy is to ensure that employees utilize mobile phones in a manner consistent with company values and legal compliance.\n",
      "\n",
      "3. The Mobile Phone Policy is aimed at promoting the responsible and secure use of mobile devices in line with legal and ethical standards. Every employee is expected to comprehend and abide by these guidelines. Regular reviews of the policy ensure its ongoing alignment with evolving technology and security best practices.\n",
      "\n",
      "4. Monitoring: The company retains the right to monitor internet and email usage for security and compliance purposes.\n",
      "\n",
      "5. Acceptable Use: Company-provided internet and email services are primarily meant for job-related tasks. Limited personal use is allowed during non-work hours, provided it doesn't interfere with work responsibilities.\n",
      "\n",
      "Generated Answer:\n",
      " What is the mobile phone policy? 4.\tMobile Phone Policy The Mobile Phone Policy sets forth the standards and expectations governing the appropriate and responsible usage of mobile devices in the organization. The purpose of this policy is to ensure that employees utilize mobile phones in a manner consistent with company values and legal compliance. The Mobile Phone Policy is aimed at promoting the responsible and secure use of mobile devices in line with legal and ethical standards. Every employee is expected to comprehend and abide by these guidelines. Regular reviews of the policy ensure its ongoing alignment with evolving technology and security best practices. Monitoring: The company retains the right to monitor internet and email usage for security and compliance purposes. Acceptable Use: Company-provided internet and email services are primarily meant for job-related tasks. Limited personal use is allowed during non-work hours, provided it doesn't interfere with work responsibilities. Employees are expected to use their mobile phones in a manner consistent with company values and legal compliance. The Mobile Phone Policy is designed to ensure that employees utilize mobile phones in a manner consistent with company values and legal compliance. Every employee is expected to comprehend and abide by these guidelines. Regular reviews of the policy ensure its ongoing alignment with evolving technology and security best practices. Monitoring: The company retains the right to monitor internet and email usage for security and compliance purposes. Acceptable Use: Company-provided internet and\n"
     ]
    }
   ],
   "source": [
    "question = \"What is the mobile phone policy?\"\n",
    "_, indices = search_relevant_contexts(question, k=5)\n",
    "top_contexts = [paragraphs[i] for i in indices[0]]\n",
    "\n",
    "print(\"Top Contexts:\")\n",
    "for i, ctx in enumerate(top_contexts, 1):\n",
    "    print(f\"{i}. {ctx}\\n\")\n",
    "\n",
    "answer = generate_answer(question, top_contexts)\n",
    "print(\"Generated Answer:\\n\", answer)"
   ]
  },
  {
   "cell_type": "code",
   "execution_count": null,
   "id": "191b3c9a-6d7a-48dd-9a5f-aae66dd85f4f",
   "metadata": {},
   "outputs": [],
   "source": []
  }
 ],
 "metadata": {
  "kernelspec": {
   "display_name": "Python [conda env:base] *",
   "language": "python",
   "name": "conda-base-py"
  },
  "language_info": {
   "codemirror_mode": {
    "name": "ipython",
    "version": 3
   },
   "file_extension": ".py",
   "mimetype": "text/x-python",
   "name": "python",
   "nbconvert_exporter": "python",
   "pygments_lexer": "ipython3",
   "version": "3.13.5"
  }
 },
 "nbformat": 4,
 "nbformat_minor": 5
}
